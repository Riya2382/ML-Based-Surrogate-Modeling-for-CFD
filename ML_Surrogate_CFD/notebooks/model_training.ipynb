{
 "cells": [
  {
   "cell_type": "markdown",
   "id": "827f62e9",
   "metadata": {},
   "source": [
    "# Model Training Notebook\n",
    "This notebook will be used for training the ML surrogate model for CFD."
   ]
  }
 ],
 "metadata": {
  "language_info": {
   "name": "python"
  }
 },
 "nbformat": 4,
 "nbformat_minor": 5
}
